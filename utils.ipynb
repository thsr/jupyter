{
 "cells": [
  {
   "cell_type": "code",
   "execution_count": 116,
   "metadata": {},
   "outputs": [],
   "source": [
    "\n",
    "from tqdm import tqdm_notebook as tqdm\n",
    "from IPython.display import display, clear_output\n",
    "def logging_elapsed_remaining(current_index, last_index, start_time, current_time, last_loop_time):\n",
    "    percent_elapsed = current_index / last_index\n",
    "    percent_remaining = 1 - percent_elapsed\n",
    "    time_elapsed = current_time - start_time\n",
    "    time_remaining = time_elapsed / percent_elapsed * percent_remaining\n",
    "    end_time = datetime.datetime.now() + time_remaining\n",
    "    \n",
    "    if (current_index % (round(last_index*0.005)+1) == 0): #only blip every 0.5 percent\n",
    "        clear_output(wait=True)\n",
    "        print(\"Started {}\".format(start_time.strftime(\"%m/%d/%Y, %H:%M:%S\")))\n",
    "        print(\"Processing {} out of {}\".format(current_index, last_index))\n",
    "        print(\"Processed {:.2%}\".format(percent_elapsed))\n",
    "        print(\"Loop time {}\".format(current_time - last_loop_time))\n",
    "        print(\"Elapsed {}\".format(time_elapsed))\n",
    "        print(\"Estimated Remaining {}\".format(time_remaining))\n",
    "        print(\"Estimated End time {}\".format(end_time.strftime(\"%m/%d/%Y, %H:%M:%S\")))\n",
    "        print(\"Current time {}\".format(current_time.strftime(\"%m/%d/%Y, %H:%M:%S\")))\n",
    "    "
   ]
  },
  {
   "cell_type": "code",
   "execution_count": 108,
   "metadata": {},
   "outputs": [
    {
     "data": {
      "text/plain": [
       "0"
      ]
     },
     "execution_count": 108,
     "metadata": {},
     "output_type": "execute_result"
    }
   ],
   "source": [
    "round(last_index*0.005)"
   ]
  },
  {
   "cell_type": "code",
   "execution_count": 66,
   "metadata": {},
   "outputs": [
    {
     "data": {
      "text/plain": [
       "5.0"
      ]
     },
     "execution_count": 66,
     "metadata": {},
     "output_type": "execute_result"
    }
   ],
   "source": [
    "(2/400 *1000)"
   ]
  },
  {
   "cell_type": "code",
   "execution_count": 42,
   "metadata": {},
   "outputs": [
    {
     "data": {
      "text/plain": [
       "'Started 02/07/2019, 16:00:00'"
      ]
     },
     "metadata": {},
     "output_type": "display_data"
    },
    {
     "data": {
      "text/plain": [
       "'Processing 75 out of 100'"
      ]
     },
     "metadata": {},
     "output_type": "display_data"
    },
    {
     "data": {
      "text/plain": [
       "'Processed 75.00%'"
      ]
     },
     "metadata": {},
     "output_type": "display_data"
    },
    {
     "data": {
      "text/plain": [
       "'Elapsed 0:55:31.765537'"
      ]
     },
     "metadata": {},
     "output_type": "display_data"
    },
    {
     "data": {
      "text/plain": [
       "'Estimated Remaining 0:18:30.588512'"
      ]
     },
     "metadata": {},
     "output_type": "display_data"
    },
    {
     "data": {
      "text/plain": [
       "'Estimated End time 02/07/2019, 17:14:02'"
      ]
     },
     "metadata": {},
     "output_type": "display_data"
    },
    {
     "data": {
      "text/plain": [
       "'Current time 02/07/2019, 16:55:31'"
      ]
     },
     "metadata": {},
     "output_type": "display_data"
    }
   ],
   "source": [
    "logging_elapsed_remaining(75, 100, datetime.datetime(2019, 2, 7, 16, 0, 0), datetime.datetime.now())"
   ]
  },
  {
   "cell_type": "code",
   "execution_count": 117,
   "metadata": {},
   "outputs": [
    {
     "data": {
      "application/vnd.jupyter.widget-view+json": {
       "model_id": "e60c73666aa84fe2981dc23152ec1917",
       "version_major": 2,
       "version_minor": 0
      },
      "text/plain": [
       "HBox(children=(IntProgress(value=0, max=4), HTML(value='')))"
      ]
     },
     "metadata": {},
     "output_type": "display_data"
    },
    {
     "data": {
      "text/plain": [
       "1"
      ]
     },
     "metadata": {},
     "output_type": "display_data"
    },
    {
     "data": {
      "text/plain": [
       "2"
      ]
     },
     "metadata": {},
     "output_type": "display_data"
    },
    {
     "data": {
      "text/plain": [
       "3"
      ]
     },
     "metadata": {},
     "output_type": "display_data"
    },
    {
     "data": {
      "text/plain": [
       "4"
      ]
     },
     "metadata": {},
     "output_type": "display_data"
    },
    {
     "name": "stdout",
     "output_type": "stream",
     "text": [
      "\n"
     ]
    }
   ],
   "source": [
    "import time\n",
    "import random\n",
    "starttime = datetime.datetime.now()\n",
    "loop_time=datetime.datetime.now()\n",
    "for i in tqdm(range(4)):\n",
    "    time.sleep(random.uniform(1, 3))\n",
    "#     logging_elapsed_remaining(i+1, 4, starttime, datetime.datetime.now(), loop_time)\n",
    "    loop_time=datetime.datetime.now()\n",
    "    display(i+1)"
   ]
  },
  {
   "cell_type": "code",
   "execution_count": 11,
   "metadata": {},
   "outputs": [],
   "source": [
    "import pandas as pd\n",
    "def get_visitor_user():\n",
    "    sql = \"\"\"\n",
    "        WITH data AS (\n",
    "          SELECT \"098\" AS visitor_id, \"asd\" as user_id\n",
    "          union all \n",
    "          SELECT \"123\" AS visitor_id, \"asd\" as user_id\n",
    "          union all \n",
    "          SELECT \"123\" AS visitor_id, \"fgh\" as user_id\n",
    "          union all \n",
    "          SELECT \"456\" AS visitor_id, \"fgh\" as user_id\n",
    "          union all \n",
    "          SELECT \"789\" AS visitor_id, \"fgh\" as user_id\n",
    "          union all \n",
    "          SELECT \"3546\" AS visitor_id, \"fgh\" as user_id\n",
    "          union all \n",
    "          SELECT \"765\" AS visitor_id, \"uyt\" as user_id\n",
    "        )\n",
    "\n",
    "        select * from data\n",
    "    \"\"\"\n",
    "    project_id = 'projectidtest'\n",
    "    df = pd.read_gbq(sql, project_id=project_id, dialect='standard')\n",
    "    return df\n",
    "\n",
    "starttime=datetime.datetime.now()"
   ]
  },
  {
   "cell_type": "code",
   "execution_count": 20,
   "metadata": {},
   "outputs": [
    {
     "name": "stdout",
     "output_type": "stream",
     "text": [
      "Processing 0:15:12.667400\n",
      "02/07/2019, 16:56:32\n"
     ]
    }
   ],
   "source": [
    "import datetime\n",
    "diff = datetime.datetime.now() - starttime\n",
    "print(\"Processing {}\".format( (diff/2*5)))\n",
    "\n",
    "\n",
    "print(\"{}\".format((datetime.datetime.now()+ (diff/2*5)).strftime(\"%m/%d/%Y, %H:%M:%S\")))"
   ]
  },
  {
   "cell_type": "code",
   "execution_count": 5,
   "metadata": {},
   "outputs": [
    {
     "data": {
      "text/plain": [
       "'1254'"
      ]
     },
     "metadata": {},
     "output_type": "display_data"
    }
   ],
   "source": [
    "display(\"12\"+\"54\")"
   ]
  },
  {
   "cell_type": "code",
   "execution_count": 22,
   "metadata": {},
   "outputs": [
    {
     "data": {
      "text/plain": [
       "datetime.datetime(2019, 2, 7, 16, 0)"
      ]
     },
     "execution_count": 22,
     "metadata": {},
     "output_type": "execute_result"
    }
   ],
   "source": [
    "datetime.datetime(2019, 2, 7, 16, 0, 0)"
   ]
  },
  {
   "cell_type": "code",
   "execution_count": 23,
   "metadata": {},
   "outputs": [
    {
     "data": {
      "text/plain": [
       "'02/07/2019, 16:00:00'"
      ]
     },
     "execution_count": 23,
     "metadata": {},
     "output_type": "execute_result"
    }
   ],
   "source": [
    "datetime.datetime(2019, 2, 7, 16, 0, 0).strftime(\"%m/%d/%Y, %H:%M:%S\")"
   ]
  },
  {
   "cell_type": "code",
   "execution_count": 112,
   "metadata": {},
   "outputs": [
    {
     "name": "stdout",
     "output_type": "stream",
     "text": [
      "0\n",
      "1\n",
      "2\n",
      "3\n",
      "4\n",
      "5\n",
      "6\n",
      "7\n",
      "8\n",
      "9\n"
     ]
    }
   ],
   "source": [
    "for i in range(10):\n",
    "    print(i, flush=True)\n",
    "    time.sleep(1) "
   ]
  },
  {
   "cell_type": "code",
   "execution_count": 2,
   "metadata": {},
   "outputs": [
    {
     "data": {
      "text/plain": [
       "['20101201',\n",
       " '20101202',\n",
       " '20101203',\n",
       " '20101204',\n",
       " '20101205',\n",
       " '20101206',\n",
       " '20101207',\n",
       " '20101208',\n",
       " '20101209',\n",
       " '20101210',\n",
       " '20101211',\n",
       " '20101212',\n",
       " '20101213',\n",
       " '20101214',\n",
       " '20101215',\n",
       " '20101216',\n",
       " '20101217',\n",
       " '20101218',\n",
       " '20101219',\n",
       " '20101220',\n",
       " '20101221',\n",
       " '20101222',\n",
       " '20101223',\n",
       " '20101224',\n",
       " '20101225',\n",
       " '20101226',\n",
       " '20101227',\n",
       " '20101228',\n",
       " '20101229']"
      ]
     },
     "execution_count": 2,
     "metadata": {},
     "output_type": "execute_result"
    }
   ],
   "source": [
    "import datetime\n",
    "dt = datetime.datetime(2010, 12, 1)\n",
    "end = datetime.datetime(2010, 12, 30)\n",
    "step = datetime.timedelta(days=1)\n",
    "\n",
    "result = []\n",
    "\n",
    "while dt < end:\n",
    "    result.append(dt.strftime('%Y%m%d'))\n",
    "    dt += step\n",
    "    \n",
    "result"
   ]
  },
  {
   "cell_type": "code",
   "execution_count": 7,
   "metadata": {},
   "outputs": [
    {
     "data": {
      "text/plain": [
       "'20150228'"
      ]
     },
     "execution_count": 7,
     "metadata": {},
     "output_type": "execute_result"
    }
   ],
   "source": [
    "import datetime\n",
    "(datetime.datetime.strptime(\"20150301\", '%Y%m%d') - datetime.timedelta(days=1)).strftime('%Y%m%d')"
   ]
  },
  {
   "cell_type": "code",
   "execution_count": 16,
   "metadata": {},
   "outputs": [
    {
     "data": {
      "text/plain": [
       "['20180507',\n",
       " '20180514',\n",
       " '20180521',\n",
       " '20180528',\n",
       " '20180604',\n",
       " '20180611',\n",
       " '20180618',\n",
       " '20180625',\n",
       " '20180702',\n",
       " '20180709',\n",
       " '20180716',\n",
       " '20180723',\n",
       " '20180730',\n",
       " '20180806',\n",
       " '20180813',\n",
       " '20180820',\n",
       " '20180827',\n",
       " '20180903',\n",
       " '20180910',\n",
       " '20180917',\n",
       " '20180924',\n",
       " '20181001',\n",
       " '20181008',\n",
       " '20181015',\n",
       " '20181022',\n",
       " '20181029',\n",
       " '20181105',\n",
       " '20181112',\n",
       " '20181119',\n",
       " '20181126',\n",
       " '20181203',\n",
       " '20181210',\n",
       " '20181217',\n",
       " '20181224',\n",
       " '20181231',\n",
       " '20190107',\n",
       " '20190114',\n",
       " '20190121',\n",
       " '20190128',\n",
       " '20190204',\n",
       " '20190211',\n",
       " '20190218']"
      ]
     },
     "execution_count": 16,
     "metadata": {},
     "output_type": "execute_result"
    }
   ],
   "source": [
    "import datetime\n",
    "def generate_dates_array(start=datetime.datetime(2010, 12, 1), end=datetime.datetime(2010, 12, 30), step=datetime.timedelta(days=1), each_monday=False):\n",
    "    if type(start) == str:\n",
    "        start = datetime.datetime.strptime(start, '%Y%m%d')\n",
    "    if type(end) == str:\n",
    "        end = datetime.datetime.strptime(end, '%Y%m%d')\n",
    "    \n",
    "    result = []\n",
    "\n",
    "    while start <= end:\n",
    "        if each_monday:\n",
    "            if start.weekday() == 0:\n",
    "                result.append(start.strftime('%Y%m%d'))\n",
    "        else:\n",
    "            result.append(start.strftime('%Y%m%d'))\n",
    "        start += step\n",
    "\n",
    "    return result\n",
    "\n",
    "generate_dates_array(\"20180501\", \"20190219\", each_monday=True)"
   ]
  },
  {
   "cell_type": "code",
   "execution_count": 3,
   "metadata": {},
   "outputs": [
    {
     "data": {
      "text/plain": [
       "0            1.0\n",
       "1            2.0\n",
       "2            0.0\n",
       "3            0.0\n",
       "4            0.0\n",
       "5    435465767.0\n",
       "dtype: float64"
      ]
     },
     "execution_count": 3,
     "metadata": {},
     "output_type": "execute_result"
    }
   ],
   "source": [
    "import pandas as pd\n",
    "import re\n",
    "\n",
    "def safe_cast_to_float(df):\n",
    "    res = df.copy()\n",
    "#   res = res.replace(['(?!^\\d+$)^.+$'], [''], regex=True)\n",
    "    res = res.apply(lambda x: re.sub(r'[^\\.\\d]', '', x))\n",
    "    res = res.replace({ '':'0', ' ':'0' })\n",
    "    res = res.astype(float)\n",
    "    return res\n",
    "\n",
    "s1 = pd.Series(['1','2.0','','-', 'something sels', '#435465767'])\n",
    "\n",
    "s4 = safe_cast_to_float(s1)\n",
    "\n",
    "s4"
   ]
  },
  {
   "cell_type": "code",
   "execution_count": null,
   "metadata": {},
   "outputs": [],
   "source": []
  }
 ],
 "metadata": {
  "kernelspec": {
   "display_name": "Python 3",
   "language": "python",
   "name": "python3"
  },
  "language_info": {
   "codemirror_mode": {
    "name": "ipython",
    "version": 3
   },
   "file_extension": ".py",
   "mimetype": "text/x-python",
   "name": "python",
   "nbconvert_exporter": "python",
   "pygments_lexer": "ipython3",
   "version": "3.7.1"
  }
 },
 "nbformat": 4,
 "nbformat_minor": 2
}
