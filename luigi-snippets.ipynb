{
 "cells": [
  {
   "cell_type": "code",
   "execution_count": 1,
   "metadata": {},
   "outputs": [],
   "source": [
    "import os\n",
    "import luigi\n",
    "import pandas as pd"
   ]
  },
  {
   "cell_type": "code",
   "execution_count": 60,
   "metadata": {},
   "outputs": [],
   "source": [
    "class Name(luigi.Task):\n",
    "    my_name = luigi.Parameter()\n",
    "\n",
    "    def output(self):\n",
    "        return luigi.LocalTarget(\n",
    "            os.path.join(\"name-{}.csv\".format(self.my_name))\n",
    "        )\n",
    "\n",
    "    def run(self):\n",
    "        df = pd.DataFrame([['123456', self.my_name + 'hangon']], columns=['id','name'])\n",
    "        df.to_csv(self.output().path, encoding='utf-8', index=False)\n",
    "#         with open(self.output().path, 'w') as out:\n",
    "#             out.write('Your name is %s' % self.my_name)\n",
    "\n",
    "\n",
    "\n",
    "\n",
    "\n",
    "\n",
    "\n",
    "class City(luigi.Task):\n",
    "    my_city = luigi.Parameter()\n",
    "    is_fast_algo = luigi.BoolParameter()\n",
    "    \n",
    "    def param_is_fast_algo_string(self):\n",
    "        return 'fast_' if self.is_fast_algo else '-not fast-'\n",
    "    \n",
    "    @property\n",
    "    def param_calculated(self):\n",
    "        return \"include this thing {} and test this {} here\".format(self.param_is_fast_algo_string(), self.my_city)\n",
    "    \n",
    "    def param_calculated_w_opt(self, other):\n",
    "        return \"include other {} this thing {} and test this {} here\".format(other, self.param_is_fast_algo_string(), self.my_city)\n",
    "    \n",
    "    def output(self):\n",
    "        return luigi.LocalTarget(\n",
    "            os.path.join(\"city-{}.csv\".format(self.my_city))\n",
    "        )\n",
    "\n",
    "    def run(self):\n",
    "#         df = pd.DataFrame([['123456', self.my_city + 'hangon']], columns=['id','city'])\n",
    "#         df.to_csv(self.output().path, encoding='utf-8', index=False)\n",
    "        print(self.param_calculated)\n",
    "        print(self.param_calculated_w_opt(\"my option\"))\n",
    "#         with open(self.output().path, 'w') as out:\n",
    "#             out.write('Your city is %s' % self.my_city)\n",
    "\n",
    "\n",
    "\n",
    "\n",
    "\n",
    "\n",
    "class NameAndCity(luigi.Task):\n",
    "    my_name = luigi.Parameter()\n",
    "    my_city = luigi.Parameter()\n",
    "\n",
    "    def requires(self):\n",
    "        return [\n",
    "            Name(my_name=self.my_name),\n",
    "            City(my_city=self.my_city)\n",
    "        ]\n",
    "\n",
    "    def output(self):\n",
    "        return luigi.LocalTarget(\n",
    "            os.path.join( \"namecity-{}-{}.csv\".format(self.my_name, self.my_city))\n",
    "        )\n",
    "\n",
    "    def run(self):\n",
    "        print(self.calculated)\n",
    "        dfname = pd.read_csv(self.input()[0].path)\n",
    "        dfcity = pd.read_csv(self.input()[1].path)\n",
    "        \n",
    "        df = pd.DataFrame([['123456', dfname.iloc[0,1], dfcity.iloc[0,1]]], columns=['id','name','city'])\n",
    "        df.to_csv(self.output().path, encoding='utf-8', index=False)\n",
    "        \n",
    "        \n",
    "        \n",
    "        \n",
    "        \n",
    "        \n",
    "        \n",
    "        \n",
    "        \n",
    "        \n",
    "        \n",
    "        \n",
    "PROJECT_ID = 'projectidtest'\n",
    "DATASET_ID = 'dataset'\n",
    "\n",
    "bq_client = bigquery.BigQueryClient()\n",
    "\n",
    "class TestRunQueryTask(bigquery.BigQueryRunQueryTask):\n",
    "    query = ''' SELECT 'hello' as field1, 2 as field2 '''\n",
    "    table = luigi.Parameter()\n",
    " \n",
    "    def output(self):\n",
    "        return bigquery.BigQueryTarget(PROJECT_ID, DATASET_ID, self.table, client=bq_client)"
   ]
  },
  {
   "cell_type": "code",
   "execution_count": 61,
   "metadata": {},
   "outputs": [
    {
     "name": "stderr",
     "output_type": "stream",
     "text": [
      "DEBUG: Checking if City(my_city=21345456543, is_fast_algo=True) is complete\n",
      "INFO: Informed scheduler that task   City_True_21345456543_64cc4e0d23   has status   PENDING\n",
      "INFO: Done scheduling tasks\n",
      "INFO: Running Worker with 1 processes\n",
      "DEBUG: Asking scheduler for work...\n",
      "DEBUG: Pending tasks: 1\n",
      "INFO: [pid 945] Worker Worker(salt=408282445, workers=1, host=LTD-THESOR1.local, username=thesor, pid=945) running   City(my_city=21345456543, is_fast_algo=True)\n",
      "INFO: [pid 945] Worker Worker(salt=408282445, workers=1, host=LTD-THESOR1.local, username=thesor, pid=945) done      City(my_city=21345456543, is_fast_algo=True)\n",
      "DEBUG: 1 running tasks, waiting for next task to finish\n",
      "INFO: Informed scheduler that task   City_True_21345456543_64cc4e0d23   has status   DONE\n",
      "DEBUG: Asking scheduler for work...\n",
      "DEBUG: Done\n",
      "DEBUG: There are no more tasks to run at this time\n",
      "INFO: Worker Worker(salt=408282445, workers=1, host=LTD-THESOR1.local, username=thesor, pid=945) was stopped. Shutting down Keep-Alive thread\n",
      "INFO: \n",
      "===== Luigi Execution Summary =====\n",
      "\n",
      "Scheduled 1 tasks of which:\n",
      "* 1 ran successfully:\n",
      "    - 1 City(my_city=21345456543, is_fast_algo=True)\n",
      "\n",
      "This progress looks :) because there were no failed tasks or missing dependencies\n",
      "\n",
      "===== Luigi Execution Summary =====\n",
      "\n"
     ]
    },
    {
     "name": "stdout",
     "output_type": "stream",
     "text": [
      "include this thing fast_ and test this 21345456543 here\n",
      "include other my option this thing fast_ and test this 21345456543 here\n"
     ]
    },
    {
     "data": {
      "text/plain": [
       "True"
      ]
     },
     "execution_count": 61,
     "metadata": {},
     "output_type": "execute_result"
    }
   ],
   "source": [
    "luigi.build([City(my_city='21345456543', is_fast_algo=True)])"
   ]
  },
  {
   "cell_type": "code",
   "execution_count": null,
   "metadata": {},
   "outputs": [],
   "source": []
  }
 ],
 "metadata": {
  "kernelspec": {
   "display_name": "Python 3",
   "language": "python",
   "name": "python3"
  },
  "language_info": {
   "codemirror_mode": {
    "name": "ipython",
    "version": 3
   },
   "file_extension": ".py",
   "mimetype": "text/x-python",
   "name": "python",
   "nbconvert_exporter": "python",
   "pygments_lexer": "ipython3",
   "version": "3.7.1"
  }
 },
 "nbformat": 4,
 "nbformat_minor": 2
}
