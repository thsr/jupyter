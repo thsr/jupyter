{
 "cells": [
  {
   "cell_type": "code",
   "execution_count": null,
   "metadata": {},
   "outputs": [],
   "source": [
    "import os\n",
    "import luigi\n",
    "import pandas as pd"
   ]
  },
  {
   "cell_type": "code",
   "execution_count": null,
   "metadata": {},
   "outputs": [],
   "source": [
    "class TestTaskFileOutput(luigi.Task):\n",
    "    param1 = luigi.Parameter()\n",
    "\n",
    "    def output(self):\n",
    "        return luigi.LocalTarget(\n",
    "            os.path.join(self.__class__.__name__+\"-{}.csv\".format(self.param1))\n",
    "        )\n",
    "\n",
    "    def run(self):\n",
    "        with open(self.output().path, 'w') as out:\n",
    "            out.write(\"done\")\n",
    "\n",
    "\n",
    "\n",
    "class TestTaskDataFrameOutput(luigi.Task):\n",
    "    param1 = luigi.Parameter()\n",
    "\n",
    "    def output(self):\n",
    "        return luigi.LocalTarget(\n",
    "            os.path.join(self.__class__.__name__+\"-{}.csv\".format(self.param1))\n",
    "        )\n",
    "\n",
    "    def run(self):\n",
    "        df = pd.DataFrame([['123456', self.param1]], columns=['id','param1'])\n",
    "        df.to_csv(self.output().path, encoding='utf-8', index=False)\n",
    "\n",
    "\n",
    "\n",
    "class TestTaskCalculatedParameter(luigi.Task):\n",
    "    param2 = luigi.Parameter()\n",
    "    param_bool = luigi.BoolParameter(default=False)\n",
    "    \n",
    "    @property\n",
    "    def param_bool_calculated(self):\n",
    "        return 'yep' if self.param_bool else 'nah'\n",
    "    \n",
    "    def param_w_option(self, option):\n",
    "        return \"param2 is {}, param_bool_calculated is {}, option is {}\".format(self.param2, self.param_bool_calculated, option)\n",
    "    \n",
    "    def output(self):\n",
    "        return luigi.LocalTarget(\n",
    "            os.path.join(self.__class__.__name__+\"-{}-{}.csv\".format(self.param2, self.param_bool))\n",
    "        )\n",
    "\n",
    "    def run(self):\n",
    "        print(self.param_bool_calculated)\n",
    "        print(self.param_w_option(\"my option\"))\n",
    "        with open(self.output().path, 'w') as out:\n",
    "            out.write(\"done\")\n",
    "\n",
    "\n",
    "\n",
    "class TestTaskWithRequirements(luigi.Task):\n",
    "    param1 = luigi.Parameter()\n",
    "    param2 = luigi.Parameter()\n",
    "\n",
    "    def requires(self):\n",
    "        return [\n",
    "            TestTaskFileOutput(param1=self.param1),\n",
    "            TestTaskCalculatedParameter(param2=self.param2, param_bool=False)\n",
    "        ]\n",
    "\n",
    "    def output(self):\n",
    "        return luigi.LocalTarget(\n",
    "            os.path.join(self.__class__.__name__+\"-{}-{}.csv\".format(self.param1, self.param2))\n",
    "        )\n",
    "\n",
    "    def run(self):\n",
    "        df = pd.DataFrame([['1', self.param1], ['2', self.param2]], columns=['id','column'])\n",
    "        df.to_csv(self.output().path, encoding='utf-8', index=False)"
   ]
  },
  {
   "cell_type": "code",
   "execution_count": null,
   "metadata": {},
   "outputs": [],
   "source": [
    "PROJECT_ID = 'projectidtest'\n",
    "DATASET_ID = 'dataset'\n",
    "\n",
    "bq_client = bigquery.BigQueryClient()\n",
    "\n",
    "class TestRunQueryTask(bigquery.BigQueryRunQueryTask):\n",
    "    query = ''' SELECT 'hello' as field1, 2 as field2 '''\n",
    "    table = luigi.Parameter()\n",
    " \n",
    "    def output(self):\n",
    "        return bigquery.BigQueryTarget(PROJECT_ID, DATASET_ID, self.table, client=bq_client)"
   ]
  },
  {
   "cell_type": "code",
   "execution_count": null,
   "metadata": {},
   "outputs": [],
   "source": [
    "luigi.build([TestTaskWithRequirements(param1='foo', param2='bar')])"
   ]
  },
  {
   "cell_type": "code",
   "execution_count": null,
   "metadata": {},
   "outputs": [],
   "source": []
  }
 ],
 "metadata": {
  "kernelspec": {
   "display_name": "Python 3",
   "language": "python",
   "name": "python3"
  },
  "language_info": {
   "codemirror_mode": {
    "name": "ipython",
    "version": 3
   },
   "file_extension": ".py",
   "mimetype": "text/x-python",
   "name": "python",
   "nbconvert_exporter": "python",
   "pygments_lexer": "ipython3",
   "version": "3.7.1"
  }
 },
 "nbformat": 4,
 "nbformat_minor": 2
}
