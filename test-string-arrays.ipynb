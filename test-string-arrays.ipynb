{
 "cells": [
  {
   "cell_type": "code",
   "execution_count": 1,
   "metadata": {},
   "outputs": [],
   "source": [
    "import numpy as np\n",
    "import pandas as pd\n",
    "import string"
   ]
  },
  {
   "cell_type": "code",
   "execution_count": 3,
   "metadata": {},
   "outputs": [
    {
     "data": {
      "text/plain": [
       "0.0008000800000000008"
      ]
     },
     "execution_count": 3,
     "metadata": {},
     "output_type": "execute_result"
    }
   ],
   "source": [
    "def f(x):\n",
    "    return 2*(x**4) + 2\n",
    "\n",
    "\n",
    "(f(1.01) - f(1-0.01)) / 2*(0.01)"
   ]
  },
  {
   "cell_type": "code",
   "execution_count": 32,
   "metadata": {},
   "outputs": [
    {
     "data": {
      "text/plain": [
       "array(['b', 'e', 'z'], dtype='<U1')"
      ]
     },
     "execution_count": 32,
     "metadata": {},
     "output_type": "execute_result"
    }
   ],
   "source": [
    "a = np.array([['a','b'],['d','e'],['d','z']])\n",
    "\n",
    "a[:,1]"
   ]
  },
  {
   "cell_type": "code",
   "execution_count": 16,
   "metadata": {},
   "outputs": [
    {
     "data": {
      "text/html": [
       "<div>\n",
       "<style scoped>\n",
       "    .dataframe tbody tr th:only-of-type {\n",
       "        vertical-align: middle;\n",
       "    }\n",
       "\n",
       "    .dataframe tbody tr th {\n",
       "        vertical-align: top;\n",
       "    }\n",
       "\n",
       "    .dataframe thead th {\n",
       "        text-align: right;\n",
       "    }\n",
       "</style>\n",
       "<table border=\"1\" class=\"dataframe\">\n",
       "  <thead>\n",
       "    <tr style=\"text-align: right;\">\n",
       "      <th></th>\n",
       "      <th>first</th>\n",
       "      <th>second</th>\n",
       "    </tr>\n",
       "  </thead>\n",
       "  <tbody>\n",
       "    <tr>\n",
       "      <th>0</th>\n",
       "      <td>a</td>\n",
       "      <td>b</td>\n",
       "    </tr>\n",
       "    <tr>\n",
       "      <th>1</th>\n",
       "      <td>d</td>\n",
       "      <td>e</td>\n",
       "    </tr>\n",
       "    <tr>\n",
       "      <th>2</th>\n",
       "      <td>d</td>\n",
       "      <td>z</td>\n",
       "    </tr>\n",
       "  </tbody>\n",
       "</table>\n",
       "</div>"
      ],
      "text/plain": [
       "  first second\n",
       "0     a      b\n",
       "1     d      e\n",
       "2     d      z"
      ]
     },
     "execution_count": 16,
     "metadata": {},
     "output_type": "execute_result"
    }
   ],
   "source": [
    "dfa = pd.DataFrame(a, columns=['first','second'])\n",
    "dfa"
   ]
  },
  {
   "cell_type": "code",
   "execution_count": 18,
   "metadata": {},
   "outputs": [
    {
     "name": "stdout",
     "output_type": "stream",
     "text": [
      "6.43 µs ± 388 ns per loop (mean ± std. dev. of 7 runs, 100000 loops each)\n"
     ]
    }
   ],
   "source": [
    "%%timeit\n",
    "np.sum(a.T[0] == 'd') > 0"
   ]
  },
  {
   "cell_type": "code",
   "execution_count": 19,
   "metadata": {},
   "outputs": [
    {
     "name": "stdout",
     "output_type": "stream",
     "text": [
      "3.72 µs ± 196 ns per loop (mean ± std. dev. of 7 runs, 100000 loops each)\n"
     ]
    }
   ],
   "source": [
    "%%timeit\n",
    "'d' in dfa['first']"
   ]
  },
  {
   "cell_type": "code",
   "execution_count": 25,
   "metadata": {},
   "outputs": [],
   "source": [
    "b = np.random.choice(list(string.ascii_lowercase),  size=(100000,2))\n",
    "dfb = pd.DataFrame(b, columns=['first','second'])"
   ]
  },
  {
   "cell_type": "code",
   "execution_count": 35,
   "metadata": {},
   "outputs": [
    {
     "name": "stdout",
     "output_type": "stream",
     "text": [
      "714 µs ± 4.7 µs per loop (mean ± std. dev. of 7 runs, 1000 loops each)\n"
     ]
    }
   ],
   "source": [
    "%%timeit\n",
    "np.max(b[:,0] == 'd') > 0"
   ]
  },
  {
   "cell_type": "code",
   "execution_count": 34,
   "metadata": {},
   "outputs": [
    {
     "name": "stdout",
     "output_type": "stream",
     "text": [
      "3.27 µs ± 61.8 ns per loop (mean ± std. dev. of 7 runs, 100000 loops each)\n"
     ]
    }
   ],
   "source": [
    "%%timeit\n",
    "'d' in dfa['first']"
   ]
  },
  {
   "cell_type": "code",
   "execution_count": 30,
   "metadata": {},
   "outputs": [],
   "source": [
    "import pandas as pd\n",
    "df = pd.DataFrame({\"A\": [1,2,3], \"B\": [1,2,3], \"C\": [1,2,3]})\n",
    "\n",
    "\n",
    "df2 = pd.DataFrame({\"A\": [4], \"B\": [4], \"C\": [4]})\n",
    "\n",
    "# 1000 loops, best of 3: 1.61 ms per loop\n",
    "\n"
   ]
  },
  {
   "cell_type": "code",
   "execution_count": 29,
   "metadata": {},
   "outputs": [
    {
     "name": "stdout",
     "output_type": "stream",
     "text": [
      "258 µs ± 18.4 µs per loop (mean ± std. dev. of 7 runs, 1000 loops each)\n"
     ]
    }
   ],
   "source": [
    "%%timeit\n",
    "df.append(df2)"
   ]
  },
  {
   "cell_type": "code",
   "execution_count": 31,
   "metadata": {},
   "outputs": [
    {
     "name": "stdout",
     "output_type": "stream",
     "text": [
      "153 µs ± 7.76 µs per loop (mean ± std. dev. of 7 runs, 10000 loops each)\n"
     ]
    }
   ],
   "source": [
    "%%timeit\n",
    "df.loc[3] = 4"
   ]
  },
  {
   "cell_type": "code",
   "execution_count": 27,
   "metadata": {},
   "outputs": [
    {
     "data": {
      "text/html": [
       "<div>\n",
       "<style scoped>\n",
       "    .dataframe tbody tr th:only-of-type {\n",
       "        vertical-align: middle;\n",
       "    }\n",
       "\n",
       "    .dataframe tbody tr th {\n",
       "        vertical-align: top;\n",
       "    }\n",
       "\n",
       "    .dataframe thead th {\n",
       "        text-align: right;\n",
       "    }\n",
       "</style>\n",
       "<table border=\"1\" class=\"dataframe\">\n",
       "  <thead>\n",
       "    <tr style=\"text-align: right;\">\n",
       "      <th></th>\n",
       "      <th>A</th>\n",
       "      <th>B</th>\n",
       "      <th>C</th>\n",
       "    </tr>\n",
       "  </thead>\n",
       "  <tbody>\n",
       "    <tr>\n",
       "      <th>0</th>\n",
       "      <td>1</td>\n",
       "      <td>1</td>\n",
       "      <td>1</td>\n",
       "    </tr>\n",
       "    <tr>\n",
       "      <th>1</th>\n",
       "      <td>2</td>\n",
       "      <td>2</td>\n",
       "      <td>2</td>\n",
       "    </tr>\n",
       "    <tr>\n",
       "      <th>2</th>\n",
       "      <td>3</td>\n",
       "      <td>3</td>\n",
       "      <td>3</td>\n",
       "    </tr>\n",
       "    <tr>\n",
       "      <th>0</th>\n",
       "      <td>4</td>\n",
       "      <td>4</td>\n",
       "      <td>4</td>\n",
       "    </tr>\n",
       "  </tbody>\n",
       "</table>\n",
       "</div>"
      ],
      "text/plain": [
       "   A  B  C\n",
       "0  1  1  1\n",
       "1  2  2  2\n",
       "2  3  3  3\n",
       "0  4  4  4"
      ]
     },
     "execution_count": 27,
     "metadata": {},
     "output_type": "execute_result"
    }
   ],
   "source": [
    "df"
   ]
  },
  {
   "cell_type": "code",
   "execution_count": 49,
   "metadata": {},
   "outputs": [],
   "source": [
    "\n",
    "a = [ ['adfg','dfgb'], ['adfg','cdfhgg'], ['dfhgx','dghfj'], ['zjhg','ejhgf'] ]"
   ]
  },
  {
   "cell_type": "code",
   "execution_count": 55,
   "metadata": {},
   "outputs": [
    {
     "name": "stdout",
     "output_type": "stream",
     "text": [
      "403 ns ± 6.77 ns per loop (mean ± std. dev. of 7 runs, 1000000 loops each)\n"
     ]
    }
   ],
   "source": [
    "%%timeit\n",
    "'pqwoeipqwie' in [row[1] for row in a]"
   ]
  },
  {
   "cell_type": "code",
   "execution_count": 56,
   "metadata": {},
   "outputs": [],
   "source": [
    "np_a = np.array(a)"
   ]
  },
  {
   "cell_type": "code",
   "execution_count": 57,
   "metadata": {},
   "outputs": [
    {
     "name": "stdout",
     "output_type": "stream",
     "text": [
      "3.66 µs ± 69.5 ns per loop (mean ± std. dev. of 7 runs, 100000 loops each)\n"
     ]
    }
   ],
   "source": [
    "%%timeit\n",
    "'pqwoeipqwie' in np_a[:,1]"
   ]
  },
  {
   "cell_type": "code",
   "execution_count": 53,
   "metadata": {},
   "outputs": [
    {
     "data": {
      "text/plain": [
       "array([['adfg', 'dfgb'],\n",
       "       ['adfg', 'cdfhgg'],\n",
       "       ['dfhgx', 'dghfj'],\n",
       "       ['zjhg', 'ejhgf']], dtype='<U6')"
      ]
     },
     "execution_count": 53,
     "metadata": {},
     "output_type": "execute_result"
    }
   ],
   "source": [
    "np_a"
   ]
  },
  {
   "cell_type": "code",
   "execution_count": 54,
   "metadata": {},
   "outputs": [
    {
     "data": {
      "text/plain": [
       "[['adfg', 'dfgb'], ['adfg', 'cdfhgg'], ['dfhgx', 'dghfj'], ['zjhg', 'ejhgf']]"
      ]
     },
     "execution_count": 54,
     "metadata": {},
     "output_type": "execute_result"
    }
   ],
   "source": [
    "np_a.tolist()"
   ]
  },
  {
   "cell_type": "code",
   "execution_count": 60,
   "metadata": {},
   "outputs": [],
   "source": [
    "b = [[1,2,3], [1,2,3], [1,2,3]]"
   ]
  },
  {
   "cell_type": "code",
   "execution_count": 61,
   "metadata": {},
   "outputs": [
    {
     "name": "stdout",
     "output_type": "stream",
     "text": [
      "108 ns ± 2.56 ns per loop (mean ± std. dev. of 7 runs, 10000000 loops each)\n"
     ]
    }
   ],
   "source": [
    "%%timeit\n",
    "appendtest = b + [4,4,4]"
   ]
  },
  {
   "cell_type": "markdown",
   "metadata": {},
   "source": [
    "# test with s array"
   ]
  },
  {
   "cell_type": "code",
   "execution_count": 2,
   "metadata": {},
   "outputs": [],
   "source": [
    "# arra = np.random.randint(100, size=(2000, 40))\n",
    "arra = pd.util.testing.rands_array(25, (200000,4))"
   ]
  },
  {
   "cell_type": "code",
   "execution_count": 4,
   "metadata": {},
   "outputs": [
    {
     "data": {
      "text/html": [
       "<div>\n",
       "<style scoped>\n",
       "    .dataframe tbody tr th:only-of-type {\n",
       "        vertical-align: middle;\n",
       "    }\n",
       "\n",
       "    .dataframe tbody tr th {\n",
       "        vertical-align: top;\n",
       "    }\n",
       "\n",
       "    .dataframe thead th {\n",
       "        text-align: right;\n",
       "    }\n",
       "</style>\n",
       "<table border=\"1\" class=\"dataframe\">\n",
       "  <thead>\n",
       "    <tr style=\"text-align: right;\">\n",
       "      <th></th>\n",
       "      <th>XY7ceRpB58</th>\n",
       "      <th>TJ6wXqcBTk</th>\n",
       "      <th>HibXgMEE6Z</th>\n",
       "      <th>F2XOapZrkt</th>\n",
       "    </tr>\n",
       "  </thead>\n",
       "  <tbody>\n",
       "    <tr>\n",
       "      <th>5000</th>\n",
       "      <td>E7dy6dPSBKXXL6pBZdwKJxNQC</td>\n",
       "      <td>PL69qaG8izBBVnPOdXzMZc2tk</td>\n",
       "      <td>464iOqCZTmDjpF0LNCKTrELq8</td>\n",
       "      <td>VzWe11yTvEk7qApC0PlIgfbxa</td>\n",
       "    </tr>\n",
       "    <tr>\n",
       "      <th>5001</th>\n",
       "      <td>UB1mosNhEby4BxpwdB1Ab8U0l</td>\n",
       "      <td>4J6muph5yc8xvRMTdWLtGf3Es</td>\n",
       "      <td>pGGWnI8vYnzy3UDYP9WIqd02y</td>\n",
       "      <td>rY5V1BnyqgaFXsUjrSvw4iN9O</td>\n",
       "    </tr>\n",
       "    <tr>\n",
       "      <th>5002</th>\n",
       "      <td>X6pyDKSUwsIquOLfAKqvFLvxJ</td>\n",
       "      <td>Xv3q1btIwe1HKnEJYGy1iwR8c</td>\n",
       "      <td>LAb25OG5qvSZ5VrRf0lRslWCx</td>\n",
       "      <td>MhiOX0AUnkhPsSfKyS0GqGST8</td>\n",
       "    </tr>\n",
       "    <tr>\n",
       "      <th>5003</th>\n",
       "      <td>cTMYfo5GFYS9uTo4yrrmyZDmu</td>\n",
       "      <td>2X4sOxzHATS5QTGGByqXQpkBC</td>\n",
       "      <td>pKaXexRdmDwz6sK57xiZCcrkk</td>\n",
       "      <td>1dymcxKTveNrMap70bgZJWHOz</td>\n",
       "    </tr>\n",
       "    <tr>\n",
       "      <th>5004</th>\n",
       "      <td>K6ahLwBtTq3zukPCSXVfih0Rx</td>\n",
       "      <td>kZDrJRH4IFGgaBeIY1XCpYg3n</td>\n",
       "      <td>vEVNl8S6Yo7SlcPnJJdhlPki0</td>\n",
       "      <td>SvMoNNHJoGMtjO6MPTSUmnmoR</td>\n",
       "    </tr>\n",
       "  </tbody>\n",
       "</table>\n",
       "</div>"
      ],
      "text/plain": [
       "                     XY7ceRpB58                 TJ6wXqcBTk  \\\n",
       "5000  E7dy6dPSBKXXL6pBZdwKJxNQC  PL69qaG8izBBVnPOdXzMZc2tk   \n",
       "5001  UB1mosNhEby4BxpwdB1Ab8U0l  4J6muph5yc8xvRMTdWLtGf3Es   \n",
       "5002  X6pyDKSUwsIquOLfAKqvFLvxJ  Xv3q1btIwe1HKnEJYGy1iwR8c   \n",
       "5003  cTMYfo5GFYS9uTo4yrrmyZDmu  2X4sOxzHATS5QTGGByqXQpkBC   \n",
       "5004  K6ahLwBtTq3zukPCSXVfih0Rx  kZDrJRH4IFGgaBeIY1XCpYg3n   \n",
       "\n",
       "                     HibXgMEE6Z                 F2XOapZrkt  \n",
       "5000  464iOqCZTmDjpF0LNCKTrELq8  VzWe11yTvEk7qApC0PlIgfbxa  \n",
       "5001  pGGWnI8vYnzy3UDYP9WIqd02y  rY5V1BnyqgaFXsUjrSvw4iN9O  \n",
       "5002  LAb25OG5qvSZ5VrRf0lRslWCx  MhiOX0AUnkhPsSfKyS0GqGST8  \n",
       "5003  pKaXexRdmDwz6sK57xiZCcrkk  1dymcxKTveNrMap70bgZJWHOz  \n",
       "5004  vEVNl8S6Yo7SlcPnJJdhlPki0  SvMoNNHJoGMtjO6MPTSUmnmoR  "
      ]
     },
     "execution_count": 4,
     "metadata": {},
     "output_type": "execute_result"
    }
   ],
   "source": [
    "df = pd.DataFrame(arra, columns=['XY7ceRpB58', 'TJ6wXqcBTk', 'HibXgMEE6Z', 'F2XOapZrkt'])\n",
    "df.iloc[5000:5005,:]\n",
    "# df.tail()"
   ]
  },
  {
   "cell_type": "code",
   "execution_count": null,
   "metadata": {},
   "outputs": [],
   "source": [
    "dfa is None"
   ]
  },
  {
   "cell_type": "code",
   "execution_count": null,
   "metadata": {},
   "outputs": [],
   "source": [
    "'true' if df else 'oh'"
   ]
  },
  {
   "cell_type": "code",
   "execution_count": 5,
   "metadata": {},
   "outputs": [
    {
     "name": "stdout",
     "output_type": "stream",
     "text": [
      "3.02 µs ± 78.6 ns per loop (mean ± std. dev. of 7 runs, 100000 loops each)\n"
     ]
    }
   ],
   "source": [
    "%%timeit\n",
    "'pGGWnI8vYnzy3UDYP9WIqd02y' in df['HibXgMEE6Z']"
   ]
  },
  {
   "cell_type": "code",
   "execution_count": 8,
   "metadata": {},
   "outputs": [
    {
     "name": "stdout",
     "output_type": "stream",
     "text": [
      "7.52 ms ± 155 µs per loop (mean ± std. dev. of 7 runs, 100 loops each)\n"
     ]
    }
   ],
   "source": [
    "%%timeit\n",
    "'pGGWnI8vYnzy3UDYP9WIqd02y' in df['HibXgMEE6Z'].values"
   ]
  },
  {
   "cell_type": "code",
   "execution_count": null,
   "metadata": {},
   "outputs": [],
   "source": [
    "%%timeit\n",
    "list(df.values)"
   ]
  },
  {
   "cell_type": "code",
   "execution_count": null,
   "metadata": {},
   "outputs": [],
   "source": [
    "%%timeit\n",
    "df.values.tolist()"
   ]
  },
  {
   "cell_type": "code",
   "execution_count": 136,
   "metadata": {},
   "outputs": [],
   "source": [
    "npa = df.values"
   ]
  },
  {
   "cell_type": "code",
   "execution_count": 137,
   "metadata": {},
   "outputs": [],
   "source": [
    "lista = df.values.tolist()"
   ]
  },
  {
   "cell_type": "code",
   "execution_count": 138,
   "metadata": {},
   "outputs": [
    {
     "name": "stdout",
     "output_type": "stream",
     "text": [
      "3.58 µs ± 274 ns per loop (mean ± std. dev. of 7 runs, 100000 loops each)\n"
     ]
    }
   ],
   "source": [
    "%%timeit\n",
    "'XVgfqUKXpTXPu3CX72kcX8qDU' in df['oEQFsiXM3H']"
   ]
  },
  {
   "cell_type": "code",
   "execution_count": 139,
   "metadata": {},
   "outputs": [
    {
     "name": "stdout",
     "output_type": "stream",
     "text": [
      "17.1 ms ± 1.19 ms per loop (mean ± std. dev. of 7 runs, 100 loops each)\n"
     ]
    }
   ],
   "source": [
    "%%timeit\n",
    "'XVgfqUKXpTXPu3CX72kcX8qDU' in [row[3] for row in lista]"
   ]
  },
  {
   "cell_type": "code",
   "execution_count": 140,
   "metadata": {},
   "outputs": [
    {
     "name": "stdout",
     "output_type": "stream",
     "text": [
      "6.09 ms ± 364 µs per loop (mean ± std. dev. of 7 runs, 100 loops each)\n"
     ]
    }
   ],
   "source": [
    "%%timeit\n",
    "'XVgfqUKXpTXPu3CX72kcX8qDU' in npa[:,3]"
   ]
  },
  {
   "cell_type": "code",
   "execution_count": 142,
   "metadata": {},
   "outputs": [
    {
     "name": "stdout",
     "output_type": "stream",
     "text": [
      "6.05 ms ± 436 µs per loop (mean ± std. dev. of 7 runs, 100 loops each)\n"
     ]
    }
   ],
   "source": [
    "%%timeit\n",
    "df['oEQFsiXM3H'].isin(['XVgfqUKXpTXPu3CX72kcX8qDU'])"
   ]
  },
  {
   "cell_type": "code",
   "execution_count": 154,
   "metadata": {},
   "outputs": [
    {
     "data": {
      "text/html": [
       "<div>\n",
       "<style scoped>\n",
       "    .dataframe tbody tr th:only-of-type {\n",
       "        vertical-align: middle;\n",
       "    }\n",
       "\n",
       "    .dataframe tbody tr th {\n",
       "        vertical-align: top;\n",
       "    }\n",
       "\n",
       "    .dataframe thead th {\n",
       "        text-align: right;\n",
       "    }\n",
       "</style>\n",
       "<table border=\"1\" class=\"dataframe\">\n",
       "  <thead>\n",
       "    <tr style=\"text-align: right;\">\n",
       "      <th></th>\n",
       "      <th>XY7ceRpB58</th>\n",
       "      <th>TJ6wXqcBTk</th>\n",
       "      <th>HibXgMEE6Z</th>\n",
       "      <th>F2XOapZrkt</th>\n",
       "    </tr>\n",
       "  </thead>\n",
       "  <tbody>\n",
       "    <tr>\n",
       "      <th>199996</th>\n",
       "      <td>kI54jtOeNSVH88tIOvr80fz7W</td>\n",
       "      <td>3TKPE1ZgE9W0gReuEkWVYrTNI</td>\n",
       "      <td>pHvjUlXEmQJ15fUsgW7O6FizX</td>\n",
       "      <td>EjrUdH5ke93WbhbutA9QewNoL</td>\n",
       "    </tr>\n",
       "    <tr>\n",
       "      <th>199997</th>\n",
       "      <td>YFx2AXfcgz1g8CvEQwlJ7HKPg</td>\n",
       "      <td>C06wYUymvyAQY69rSfAUIFDiz</td>\n",
       "      <td>wqp2ZFKJYmNsfPOvDQB94sVZF</td>\n",
       "      <td>UVUHZJHmEN9KINH57zj7K809U</td>\n",
       "    </tr>\n",
       "    <tr>\n",
       "      <th>199998</th>\n",
       "      <td>zsUN2hYivsLzAsG9axBbDMBSH</td>\n",
       "      <td>DldyWDsi8F8qJlhxQ7ExjaJiw</td>\n",
       "      <td>wHWj7GYKJp8wYejRQ84hvtmvm</td>\n",
       "      <td>v65jowoHQEhpqrkJRo4cDNDJX</td>\n",
       "    </tr>\n",
       "    <tr>\n",
       "      <th>199999</th>\n",
       "      <td>5K4beYfVgYVEnJiVbv2Re463v</td>\n",
       "      <td>VxCVZEvn2IWcIWIAxN0OWJCVc</td>\n",
       "      <td>6BRnV9DqVSRGGXvvaZJYQ6sbz</td>\n",
       "      <td>XyPasU5KFF7zWL73aUmVhne7G</td>\n",
       "    </tr>\n",
       "    <tr>\n",
       "      <th>0</th>\n",
       "      <td>hLpel4xhUJJvpNmV6JSaH2FPs</td>\n",
       "      <td>jlX6dGBf1zbwrt5Wqre5otS0s</td>\n",
       "      <td>y7Dgll5abeCJN9qrRNJmHQx55</td>\n",
       "      <td>o4zveI0gFPwbVKPA305SsF29D</td>\n",
       "    </tr>\n",
       "  </tbody>\n",
       "</table>\n",
       "</div>"
      ],
      "text/plain": [
       "                       XY7ceRpB58                 TJ6wXqcBTk  \\\n",
       "199996  kI54jtOeNSVH88tIOvr80fz7W  3TKPE1ZgE9W0gReuEkWVYrTNI   \n",
       "199997  YFx2AXfcgz1g8CvEQwlJ7HKPg  C06wYUymvyAQY69rSfAUIFDiz   \n",
       "199998  zsUN2hYivsLzAsG9axBbDMBSH  DldyWDsi8F8qJlhxQ7ExjaJiw   \n",
       "199999  5K4beYfVgYVEnJiVbv2Re463v  VxCVZEvn2IWcIWIAxN0OWJCVc   \n",
       "0       hLpel4xhUJJvpNmV6JSaH2FPs  jlX6dGBf1zbwrt5Wqre5otS0s   \n",
       "\n",
       "                       HibXgMEE6Z                 F2XOapZrkt  \n",
       "199996  pHvjUlXEmQJ15fUsgW7O6FizX  EjrUdH5ke93WbhbutA9QewNoL  \n",
       "199997  wqp2ZFKJYmNsfPOvDQB94sVZF  UVUHZJHmEN9KINH57zj7K809U  \n",
       "199998  wHWj7GYKJp8wYejRQ84hvtmvm  v65jowoHQEhpqrkJRo4cDNDJX  \n",
       "199999  6BRnV9DqVSRGGXvvaZJYQ6sbz  XyPasU5KFF7zWL73aUmVhne7G  \n",
       "0       y7Dgll5abeCJN9qrRNJmHQx55  o4zveI0gFPwbVKPA305SsF29D  "
      ]
     },
     "execution_count": 154,
     "metadata": {},
     "output_type": "execute_result"
    }
   ],
   "source": [
    "toappend = pd.DataFrame(pd.util.testing.rands_array(25, (1,4)), columns=['XY7ceRpB58', 'TJ6wXqcBTk', 'HibXgMEE6Z', 'F2XOapZrkt'])\n",
    "df.append(toappend).tail()"
   ]
  },
  {
   "cell_type": "code",
   "execution_count": 174,
   "metadata": {},
   "outputs": [],
   "source": [
    "nptoappend = pd.util.testing.rands_array(25, 4)\n",
    "dftoappend = pd.DataFrame(pd.util.testing.rands_array(25, (1,4)), columns=['XY7ceRpB58', 'TJ6wXqcBTk', 'HibXgMEE6Z', 'F2XOapZrkt'])"
   ]
  },
  {
   "cell_type": "code",
   "execution_count": 176,
   "metadata": {},
   "outputs": [
    {
     "name": "stdout",
     "output_type": "stream",
     "text": [
      "128 ms ± 1.43 ms per loop (mean ± std. dev. of 7 runs, 10 loops each)\n"
     ]
    }
   ],
   "source": [
    "%%timeit\n",
    "df.append(dftoappend)\n",
    "'pHvjUlXEmQJ15fUsgW7O6FizX' in df['HibXgMEE6Z']"
   ]
  },
  {
   "cell_type": "code",
   "execution_count": 191,
   "metadata": {},
   "outputs": [
    {
     "name": "stdout",
     "output_type": "stream",
     "text": [
      "26.7 ms ± 241 µs per loop (mean ± std. dev. of 7 runs, 10 loops each)\n"
     ]
    }
   ],
   "source": [
    "%%timeit\n",
    "df.loc[len(df.index)] = ['XY7ceRpB58XY7ceRpB58', 'TJ6wXqcBTkTJ6wXqcBTk', 'HibXgMEE6ZHibXgMEE6Z', 'F2XOapZrktF2XOapZrkt']\n",
    "'pHvjUlXEmQJ15fUsgW7O6FizX' in df['HibXgMEE6Z']"
   ]
  },
  {
   "cell_type": "code",
   "execution_count": 190,
   "metadata": {},
   "outputs": [
    {
     "name": "stdout",
     "output_type": "stream",
     "text": [
      "28.6 ms ± 2.23 ms per loop (mean ± std. dev. of 7 runs, 10 loops each)\n"
     ]
    }
   ],
   "source": [
    "%%timeit\n",
    "df.loc[len(df.index)] = np.array(['XY7ceRpB58XY7ceRpB58', 'TJ6wXqcBTkTJ6wXqcBTk', 'HibXgMEE6ZHibXgMEE6Z', 'F2XOapZrktF2XOapZrkt'])\n",
    "'pHvjUlXEmQJ15fUsgW7O6FizX' in df['HibXgMEE6Z']"
   ]
  },
  {
   "cell_type": "code",
   "execution_count": 180,
   "metadata": {},
   "outputs": [
    {
     "name": "stdout",
     "output_type": "stream",
     "text": [
      "332 ns ± 1.71 ns per loop (mean ± std. dev. of 7 runs, 1000000 loops each)\n"
     ]
    }
   ],
   "source": [
    "%%timeit\n",
    "len(df.index)"
   ]
  },
  {
   "cell_type": "code",
   "execution_count": 163,
   "metadata": {},
   "outputs": [
    {
     "name": "stdout",
     "output_type": "stream",
     "text": [
      "1.08 µs ± 8.94 ns per loop (mean ± std. dev. of 7 runs, 1000000 loops each)\n"
     ]
    }
   ],
   "source": [
    "%%timeit\n",
    "df.shape[0]"
   ]
  },
  {
   "cell_type": "code",
   "execution_count": 164,
   "metadata": {},
   "outputs": [],
   "source": [
    "i = 909090"
   ]
  },
  {
   "cell_type": "code",
   "execution_count": 166,
   "metadata": {},
   "outputs": [
    {
     "name": "stdout",
     "output_type": "stream",
     "text": [
      "50.7 ns ± 2.94 ns per loop (mean ± std. dev. of 7 runs, 10000000 loops each)\n"
     ]
    }
   ],
   "source": [
    "%%timeit\n",
    "i + 1"
   ]
  },
  {
   "cell_type": "code",
   "execution_count": null,
   "metadata": {},
   "outputs": [],
   "source": []
  }
 ],
 "metadata": {
  "kernelspec": {
   "display_name": "Python 3",
   "language": "python",
   "name": "python3"
  },
  "language_info": {
   "codemirror_mode": {
    "name": "ipython",
    "version": 3
   },
   "file_extension": ".py",
   "mimetype": "text/x-python",
   "name": "python",
   "nbconvert_exporter": "python",
   "pygments_lexer": "ipython3",
   "version": "3.6.6"
  }
 },
 "nbformat": 4,
 "nbformat_minor": 2
}
