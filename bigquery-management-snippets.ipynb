{
 "cells": [
  {
   "cell_type": "code",
   "execution_count": 1,
   "metadata": {},
   "outputs": [
    {
     "name": "stderr",
     "output_type": "stream",
     "text": [
      "/Users/thesor/anaconda3/lib/python3.7/site-packages/google/auth/_default.py:66: UserWarning: Your application has authenticated using end user credentials from Google Cloud SDK. We recommend that most server applications use service accounts instead. If your application continues to use end user credentials from Cloud SDK, you might receive a \"quota exceeded\" or \"API not enabled\" error. For more information about service accounts, see https://cloud.google.com/docs/authentication/\n",
      "  warnings.warn(_CLOUD_SDK_CREDENTIALS_WARNING)\n",
      "/Users/thesor/anaconda3/lib/python3.7/site-packages/google/auth/_default.py:66: UserWarning: Your application has authenticated using end user credentials from Google Cloud SDK. We recommend that most server applications use service accounts instead. If your application continues to use end user credentials from Cloud SDK, you might receive a \"quota exceeded\" or \"API not enabled\" error. For more information about service accounts, see https://cloud.google.com/docs/authentication/\n",
      "  warnings.warn(_CLOUD_SDK_CREDENTIALS_WARNING)\n",
      "/Users/thesor/anaconda3/lib/python3.7/site-packages/google/auth/_default.py:66: UserWarning: Your application has authenticated using end user credentials from Google Cloud SDK. We recommend that most server applications use service accounts instead. If your application continues to use end user credentials from Cloud SDK, you might receive a \"quota exceeded\" or \"API not enabled\" error. For more information about service accounts, see https://cloud.google.com/docs/authentication/\n",
      "  warnings.warn(_CLOUD_SDK_CREDENTIALS_WARNING)\n",
      "/Users/thesor/anaconda3/lib/python3.7/site-packages/google/auth/_default.py:66: UserWarning: Your application has authenticated using end user credentials from Google Cloud SDK. We recommend that most server applications use service accounts instead. If your application continues to use end user credentials from Cloud SDK, you might receive a \"quota exceeded\" or \"API not enabled\" error. For more information about service accounts, see https://cloud.google.com/docs/authentication/\n",
      "  warnings.warn(_CLOUD_SDK_CREDENTIALS_WARNING)\n"
     ]
    }
   ],
   "source": [
    "import os\n",
    "import luigi\n",
    "import datetime\n",
    "from google.cloud import bigquery, storage\n",
    "from IPython.display import display, clear_output\n",
    "import pandas as pd\n",
    "import numpy as np\n",
    "import time\n",
    "import uuid\n",
    "\n",
    "private_key = 'serviceaccount.json'\n",
    "# output_path = folder\n",
    "bq_client = bigquery.Client()#.from_service_account_json(private_key)\n",
    "storage_client = storage.Client()\n",
    "project_id = 'projectidtest'"
   ]
  },
  {
   "cell_type": "markdown",
   "metadata": {},
   "source": [
    "## upload csv to BQ thru GCS"
   ]
  },
  {
   "cell_type": "code",
   "execution_count": null,
   "metadata": {},
   "outputs": [],
   "source": [
    "pwd"
   ]
  },
  {
   "cell_type": "code",
   "execution_count": null,
   "metadata": {},
   "outputs": [],
   "source": [
    "project_id = 'projectidtest'\n",
    "dataset_id = 'dw_data'\n",
    "destination_table_id = 'nvc_w_pii'\n",
    "bucket_name = 'bi_poc'\n",
    "source_file_name = './nvc_w_pii.csv'\n",
    "destination_blob_name = dataset_id + '/' + destination_table_id + '.csv'\n",
    "\n",
    "# Field types: https://cloud.google.com/bigquery/docs/reference/rest/v2/tables#tablefieldschema\n",
    "table_schema = [\n",
    "    bigquery.SchemaField('account_id', 'STRING'),\n",
    "    bigquery.SchemaField('first_name', 'STRING'),\n",
    "    bigquery.SchemaField('last_name', 'STRING'),\n",
    "    bigquery.SchemaField('account_name', 'STRING'),\n",
    "    bigquery.SchemaField('operator', 'STRING'),\n",
    "    bigquery.SchemaField('validation_ip', 'STRING'),\n",
    "    bigquery.SchemaField('ndc', 'STRING'),\n",
    "    bigquery.SchemaField('affiliate_type', 'STRING'),\n",
    "    bigquery.SchemaField('affiliate_id', 'STRING'),\n",
    "    bigquery.SchemaField('validation_date', 'STRING'),\n",
    "]\n",
    "\n",
    "\n",
    "\n",
    "\n",
    "\n",
    "\"\"\"\n",
    "Uploads a file to the bucket.\n",
    "https://cloud.google.com/storage/docs/uploading-objects\n",
    "\"\"\"\n",
    "bucket = storage_client.get_bucket(bucket_name)\n",
    "blob = bucket.blob(destination_blob_name)\n",
    "\n",
    "blob.upload_from_filename(source_file_name)\n",
    "\n",
    "print('Uploaded file {} to {}.'.format(source_file_name, destination_blob_name))\n",
    "\n",
    "\n",
    "\n",
    "\n",
    "\n",
    "\"\"\"\n",
    "Load CSV from GCS to BQ\n",
    "https://cloud.google.com/bigquery/docs/loading-data-cloud-storage-csv\n",
    "\"\"\"\n",
    "dataset_ref = bq_client.dataset(dataset_id)\n",
    "job_config = bigquery.LoadJobConfig()\n",
    "job_config.schema = table_schema\n",
    "job_config.skip_leading_rows = 1\n",
    "job_config.max_bad_records = 100\n",
    "job_config.field_delimiter = \",\"\n",
    "job_config.source_format = bigquery.SourceFormat.CSV # The source format defaults to CSV, so this line is optional.\n",
    "job_config.write_disposition = bigquery.WriteDisposition.WRITE_TRUNCATE # https://cloud.google.com/bigquery/docs/loading-data-cloud-storage-csv#loading_csv_data_with_schema_auto-detection\n",
    "job_config.allow_quoted_newlines = True\n",
    "\n",
    "uri = 'gs://' + bucket_name + '/' + destination_blob_name\n",
    "\n",
    "load_job = bq_client.load_table_from_uri(\n",
    "    uri,\n",
    "    dataset_ref.table(destination_table_id),\n",
    "    job_config=job_config)  # API request\n",
    "print('Starting job {} from {}'.format(load_job.job_id, uri))\n",
    "\n",
    "load_job.result()  # Waits for table load to complete.\n",
    "print('Job finished.')\n",
    "\n",
    "destination_table = bq_client.get_table(dataset_ref.table(destination_table_id))\n",
    "print('Resulted table has {} rows.'.format(destination_table.num_rows))"
   ]
  },
  {
   "cell_type": "code",
   "execution_count": null,
   "metadata": {},
   "outputs": [],
   "source": [
    "load_job.errors"
   ]
  },
  {
   "cell_type": "markdown",
   "metadata": {},
   "source": [
    "## list tables"
   ]
  },
  {
   "cell_type": "code",
   "execution_count": 40,
   "metadata": {},
   "outputs": [],
   "source": [
    "dataset_ref = bq_client.dataset('mrgreen')\n",
    "\n",
    "tables = list(bq_client.list_tables(dataset_ref))"
   ]
  },
  {
   "cell_type": "code",
   "execution_count": null,
   "metadata": {},
   "outputs": [],
   "source": [
    "table_list_refs = [o.reference for o in tables if o.table_id.startswith('fast_')]\n",
    "print(len(table_ids))\n",
    "table_list_refs[:5]"
   ]
  },
  {
   "cell_type": "markdown",
   "metadata": {},
   "source": [
    "## delete tables"
   ]
  },
  {
   "cell_type": "code",
   "execution_count": null,
   "metadata": {},
   "outputs": [],
   "source": [
    "# for t in table_list_refs:\n",
    "#     bq_client.delete_table(t)\n",
    "#     print('Table {}:{} deleted.'.format(dataset_id, t))"
   ]
  },
  {
   "cell_type": "code",
   "execution_count": null,
   "metadata": {},
   "outputs": [],
   "source": [
    "dataset_id = 'mrgreen'\n",
    "table_id = 'test2'\n",
    "table_ref = bq_client.dataset(dataset_id).table(table_id)\n",
    "table_path = table_ref.path\n",
    "num_rows = bq_client.get_table(table_ref).num_rows\n",
    "bq_client.delete_table(table_ref)\n",
    "print('Table {} deleted. {} Rows'.format(table_path, num_rows))"
   ]
  },
  {
   "cell_type": "code",
   "execution_count": null,
   "metadata": {},
   "outputs": [],
   "source": [
    "table_ref.path"
   ]
  },
  {
   "cell_type": "code",
   "execution_count": 3,
   "metadata": {},
   "outputs": [],
   "source": [
    "df = pd.read_excel('nvc_w_pii.xlsx')\n",
    "df.to_csv('nvc_w_pii.csv', encoding='utf-8', index=False)"
   ]
  },
  {
   "cell_type": "code",
   "execution_count": null,
   "metadata": {},
   "outputs": [],
   "source": []
  }
 ],
 "metadata": {
  "kernelspec": {
   "display_name": "Python 3",
   "language": "python",
   "name": "python3"
  },
  "language_info": {
   "codemirror_mode": {
    "name": "ipython",
    "version": 3
   },
   "file_extension": ".py",
   "mimetype": "text/x-python",
   "name": "python",
   "nbconvert_exporter": "python",
   "pygments_lexer": "ipython3",
   "version": "3.7.1"
  }
 },
 "nbformat": 4,
 "nbformat_minor": 2
}
